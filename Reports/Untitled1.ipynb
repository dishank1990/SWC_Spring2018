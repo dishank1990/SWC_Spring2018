{
 "cells": [
  {
   "cell_type": "code",
   "execution_count": 1,
   "metadata": {},
   "outputs": [
    {
     "name": "stderr",
     "output_type": "stream",
     "text": [
      "C:\\Users\\Dishank\\Anaconda3\\lib\\site-packages\\statsmodels\\compat\\pandas.py:56: FutureWarning: The pandas.core.datetools module is deprecated and will be removed in a future version. Please use the pandas.tseries module instead.\n",
      "  from pandas.core import datetools\n"
     ]
    },
    {
     "name": "stdout",
     "output_type": "stream",
     "text": [
      "       country continent  year  lifeExp       pop   gdpPercap\n",
      "0  Afghanistan      Asia  1952   28.801   8425333  779.445314\n",
      "1  Afghanistan      Asia  1957   30.332   9240934  820.853030\n",
      "2  Afghanistan      Asia  1962   31.997  10267083  853.100710\n",
      "3  Afghanistan      Asia  1967   34.020  11537966  836.197138\n",
      "4  Afghanistan      Asia  1972   36.088  13079460  739.981106\n"
     ]
    }
   ],
   "source": [
    "import plotnine\n",
    "from plotnine import *\n",
    "import pandas as pd\n",
    "\n",
    "#read data into Python\n",
    "myData=pd.read_table(\"Data/Data/gapminder.txt\")\n",
    "\n",
    "#view first few lines of the dataset\n",
    "print(myData.head())"
   ]
  },
  {
   "cell_type": "code",
   "execution_count": 2,
   "metadata": {},
   "outputs": [],
   "source": [
    "def SelectDataByCont(df,continents_list):\n",
    "    \"\"\"select data for continents given in the 'continents_list' from a dataframe 'df'\"\"\"    \n",
    "    dataSubset=df.loc[df['continent'].isin(continents_list),:]\n",
    "    return dataSubset"
   ]
  },
  {
   "cell_type": "code",
   "execution_count": 4,
   "metadata": {},
   "outputs": [],
   "source": [
    "    continents_list = ['Americas', 'Africa']\n",
    "    dataSubset=myData.loc[myData['continent'].isin(continents_list),:]\n"
   ]
  },
  {
   "cell_type": "code",
   "execution_count": 6,
   "metadata": {},
   "outputs": [
    {
     "name": "stdout",
     "output_type": "stream",
     "text": [
      "    country continent  year  lifeExp       pop    gdpPercap\n",
      "24  Algeria    Africa  1952   43.077   9279525  2449.008185\n",
      "25  Algeria    Africa  1957   45.685  10270856  3013.976023\n",
      "26  Algeria    Africa  1962   48.303  11000948  2550.816880\n",
      "27  Algeria    Africa  1967   51.407  12760499  3246.991771\n",
      "28  Algeria    Africa  1972   54.518  14760787  4182.663766\n",
      "['Africa' 'Americas']\n"
     ]
    }
   ],
   "source": [
    "print(dataSubset.head())\n",
    "print(pd.unique(dataSubset['continent']))"
   ]
  },
  {
   "cell_type": "code",
   "execution_count": 7,
   "metadata": {},
   "outputs": [
    {
     "name": "stdout",
     "output_type": "stream",
     "text": [
      "SelectDataByCont\t aes\t annotate\t arrow\t as_labeller\t continents_list\t coord_cartesian\t coord_equal\t coord_fixed\t \n",
      "coord_flip\t coord_trans\t dataSubset\t element_blank\t element_line\t element_rect\t element_text\t expand_limits\t facet_grid\t \n",
      "facet_null\t facet_wrap\t geom_abline\t geom_area\t geom_bar\t geom_bin2d\t geom_blank\t geom_boxplot\t geom_col\t \n",
      "geom_count\t geom_crossbar\t geom_density\t geom_dotplot\t geom_errorbar\t geom_errorbarh\t geom_freqpoly\t geom_histogram\t geom_hline\t \n",
      "geom_jitter\t geom_label\t geom_line\t geom_linerange\t geom_path\t geom_point\t geom_pointrange\t geom_polygon\t geom_qq\t \n",
      "geom_quantile\t geom_rect\t geom_ribbon\t geom_rug\t geom_segment\t geom_smooth\t geom_spoke\t geom_step\t geom_text\t \n",
      "geom_tile\t geom_violin\t geom_vline\t ggplot\t ggsave\t ggtitle\t guide_colorbar\t guide_colourbar\t guide_legend\t \n",
      "guides\t label_both\t label_context\t label_value\t labeller\t labs\t lims\t myData\t pd\t \n",
      "plotnine\t position_dodge\t position_fill\t position_identity\t position_jitter\t position_jitterdodge\t position_nudge\t position_stack\t qplot\t \n",
      "scale_alpha\t scale_alpha_continuous\t scale_alpha_datetime\t scale_alpha_discrete\t scale_alpha_identity\t scale_alpha_manual\t scale_color_brewer\t scale_color_cmap\t scale_color_continuous\t \n",
      "scale_color_datetime\t scale_color_desaturate\t scale_color_discrete\t scale_color_distiller\t scale_color_gradient\t scale_color_gradient2\t scale_color_gradientn\t scale_color_gray\t scale_color_grey\t \n",
      "scale_color_hue\t scale_color_identity\t scale_color_manual\t scale_colour_brewer\t scale_colour_cmap\t scale_colour_continuous\t scale_colour_datetime\t scale_colour_desaturate\t scale_colour_discrete\t \n",
      "scale_colour_distiller\t scale_colour_gradient\t scale_colour_gradient2\t scale_colour_gradientn\t scale_colour_gray\t scale_colour_grey\t scale_colour_hue\t scale_colour_identity\t scale_colour_manual\t \n",
      "scale_fill_brewer\t scale_fill_cmap\t scale_fill_continuous\t scale_fill_datetime\t scale_fill_desaturate\t scale_fill_discrete\t scale_fill_distiller\t scale_fill_gradient\t scale_fill_gradient2\t \n",
      "scale_fill_gradientn\t scale_fill_gray\t scale_fill_grey\t scale_fill_hue\t scale_fill_identity\t scale_fill_manual\t scale_linetype\t scale_linetype_continuous\t scale_linetype_discrete\t \n",
      "scale_linetype_identity\t scale_linetype_manual\t scale_shape\t scale_shape_continuous\t scale_shape_discrete\t scale_shape_identity\t scale_shape_manual\t scale_size\t scale_size_area\t \n",
      "scale_size_continuous\t scale_size_datetime\t scale_size_discrete\t scale_size_identity\t scale_size_manual\t scale_size_radius\t scale_stroke\t scale_stroke_continuous\t scale_stroke_discrete\t \n",
      "scale_x_continuous\t scale_x_date\t scale_x_datetime\t scale_x_discrete\t scale_x_log10\t scale_x_reverse\t scale_x_sqrt\t scale_x_timedelta\t scale_y_continuous\t \n",
      "scale_y_date\t scale_y_datetime\t scale_y_discrete\t scale_y_log10\t scale_y_reverse\t scale_y_sqrt\t scale_y_timedelta\t stat_bin\t stat_bin2d\t \n",
      "stat_bin_2d\t stat_bindot\t stat_boxplot\t stat_count\t stat_density\t stat_ecdf\t stat_function\t stat_identity\t stat_qq\t \n",
      "stat_quantile\t stat_smooth\t stat_sum\t stat_summary\t stat_summary_bin\t stat_unique\t stat_ydensity\t theme\t theme_538\t \n",
      "theme_bw\t theme_classic\t theme_dark\t theme_get\t theme_gray\t theme_grey\t theme_light\t theme_linedraw\t theme_matplotlib\t \n",
      "theme_minimal\t theme_seaborn\t theme_set\t theme_update\t theme_void\t theme_xkcd\t watermark\t xlab\t xlim\t \n",
      "ylab\t ylim\t \n"
     ]
    }
   ],
   "source": [
    "who"
   ]
  },
  {
   "cell_type": "code",
   "execution_count": 8,
   "metadata": {},
   "outputs": [
    {
     "name": "stdout",
     "output_type": "stream",
     "text": [
      "    country continent  year  lifeExp       pop    gdpPercap\n",
      "24  Algeria    Africa  1952   43.077   9279525  2449.008185\n",
      "25  Algeria    Africa  1957   45.685  10270856  3013.976023\n"
     ]
    }
   ],
   "source": [
    "newData = SelectDataByCont(myData,continents_list)\n",
    "print(newData.head(2))"
   ]
  },
  {
   "cell_type": "code",
   "execution_count": null,
   "metadata": {},
   "outputs": [],
   "source": []
  }
 ],
 "metadata": {
  "kernelspec": {
   "display_name": "Python 3",
   "language": "python",
   "name": "python3"
  },
  "language_info": {
   "codemirror_mode": {
    "name": "ipython",
    "version": 3
   },
   "file_extension": ".py",
   "mimetype": "text/x-python",
   "name": "python",
   "nbconvert_exporter": "python",
   "pygments_lexer": "ipython3",
   "version": "3.6.4"
  }
 },
 "nbformat": 4,
 "nbformat_minor": 2
}
