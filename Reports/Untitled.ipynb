{
 "cells": [
  {
   "cell_type": "markdown",
   "metadata": {},
   "source": [
    "# mark down\n"
   ]
  },
  {
   "cell_type": "markdown",
   "metadata": {},
   "source": [
    "**DISHANK**"
   ]
  },
  {
   "cell_type": "markdown",
   "metadata": {},
   "source": [
    "> text \n",
    "> here"
   ]
  },
  {
   "cell_type": "markdown",
   "metadata": {},
   "source": [
    "> text here"
   ]
  },
  {
   "cell_type": "markdown",
   "metadata": {},
   "source": [
    "# h1 Heading\n",
    "## h2 Heading\n",
    "### h3 Heading\n",
    "#### h4 Heading\n",
    "##### h5 Heading\n",
    "###### h6 Heading"
   ]
  },
  {
   "cell_type": "markdown",
   "metadata": {},
   "source": [
    "***"
   ]
  },
  {
   "cell_type": "code",
   "execution_count": 2,
   "metadata": {},
   "outputs": [
    {
     "ename": "SyntaxError",
     "evalue": "invalid syntax (<ipython-input-2-4022e57ff09e>, line 1)",
     "output_type": "error",
     "traceback": [
      "\u001b[1;36m  File \u001b[1;32m\"<ipython-input-2-4022e57ff09e>\"\u001b[1;36m, line \u001b[1;32m1\u001b[0m\n\u001b[1;33m    <em> sdfkjsdlfj </em>\u001b[0m\n\u001b[1;37m    ^\u001b[0m\n\u001b[1;31mSyntaxError\u001b[0m\u001b[1;31m:\u001b[0m invalid syntax\n"
     ]
    }
   ],
   "source": [
    "<em> sdfkjsdlfj </em>"
   ]
  },
  {
   "cell_type": "markdown",
   "metadata": {},
   "source": [
    "![Minion](http://octodex.github.com/images/minion.png)"
   ]
  },
  {
   "cell_type": "markdown",
   "metadata": {},
   "source": [
    "![Minion](http://octodex.github.com/images/minion.png)"
   ]
  },
  {
   "cell_type": "markdown",
   "metadata": {},
   "source": [
    "![Alt text](http://octodex.github.com/images/stormtroopocat.jpg \"The Stormtroopocat\")"
   ]
  },
  {
   "cell_type": "code",
   "execution_count": null,
   "metadata": {},
   "outputs": [],
   "source": []
  }
 ],
 "metadata": {
  "kernelspec": {
   "display_name": "Python 3",
   "language": "python",
   "name": "python3"
  },
  "language_info": {
   "codemirror_mode": {
    "name": "ipython",
    "version": 3
   },
   "file_extension": ".py",
   "mimetype": "text/x-python",
   "name": "python",
   "nbconvert_exporter": "python",
   "pygments_lexer": "ipython3",
   "version": "3.6.4"
  }
 },
 "nbformat": 4,
 "nbformat_minor": 2
}
